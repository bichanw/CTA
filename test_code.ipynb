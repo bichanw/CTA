{
 "cells": [
  {
   "cell_type": "code",
   "execution_count": 1,
   "id": "22b3af55-45bf-404e-a658-13e182663e22",
   "metadata": {},
   "outputs": [
    {
     "ename": "ModuleNotFoundError",
     "evalue": "No module named 'alf'",
     "output_type": "error",
     "traceback": [
      "\u001b[0;31m---------------------------------------------------------------------------\u001b[0m",
      "\u001b[0;31mModuleNotFoundError\u001b[0m                       Traceback (most recent call last)",
      "Input \u001b[0;32mIn [1]\u001b[0m, in \u001b[0;36m<cell line: 2>\u001b[0;34m()\u001b[0m\n\u001b[1;32m      1\u001b[0m \u001b[38;5;28;01mimport\u001b[39;00m \u001b[38;5;21;01mbrainbox\u001b[39;00m \u001b[38;5;28;01mas\u001b[39;00m \u001b[38;5;21;01mbb\u001b[39;00m\n\u001b[0;32m----> 2\u001b[0m \u001b[38;5;28;01mimport\u001b[39;00m \u001b[38;5;21;01malf\u001b[39;00m\u001b[38;5;21;01m.\u001b[39;00m\u001b[38;5;21;01mio\u001b[39;00m \u001b[38;5;28;01mas\u001b[39;00m \u001b[38;5;21;01maio\u001b[39;00m\n\u001b[1;32m      3\u001b[0m \u001b[38;5;28;01mimport\u001b[39;00m \u001b[38;5;21;01mnumpy\u001b[39;00m \u001b[38;5;28;01mas\u001b[39;00m \u001b[38;5;21;01mnp\u001b[39;00m\n\u001b[1;32m      4\u001b[0m \u001b[38;5;28;01mimport\u001b[39;00m \u001b[38;5;21;01mmatplotlib\u001b[39;00m\u001b[38;5;21;01m.\u001b[39;00m\u001b[38;5;21;01mpyplot\u001b[39;00m \u001b[38;5;28;01mas\u001b[39;00m \u001b[38;5;21;01mplt\u001b[39;00m\n",
      "\u001b[0;31mModuleNotFoundError\u001b[0m: No module named 'alf'"
     ]
    }
   ],
   "source": [
    "import brainbox as bb\n",
    "import alf.io as aio\n",
    "import numpy as np\n",
    "import matplotlib.pyplot as plt\n",
    "import ibllib.ephys.spikes as e_spks # (*Note, if there is no ‘alf’ directory, make ‘alf’ directory from ‘ks2’ output directory):"
   ]
  },
  {
   "cell_type": "code",
   "execution_count": null,
   "id": "1352212c-32dc-4186-9767-369b912896fb",
   "metadata": {},
   "outputs": [],
   "source": [
    "e_spks.ks2_to_alf(path_to_ks_out, path_to_alf_out) # Load the alf spikes bunch and clusters bunch, and get a units bunch. \n",
    "spks_b = aio.load_object(path_to_alf_out, ‘spikes’)\n",
    "clstrs_b = aio.load_object(path_to_alf_out, ‘clusters’)\n",
    "units_b = bb.processing.get_units_bunch(spks_b) # may take a few mins to compute"
   ]
  },
  {
   "cell_type": "markdown",
   "id": "0b439e1d-b21f-41ad-a413-ba0b481c15e4",
   "metadata": {},
   "source": [
    "## navie bayes"
   ]
  },
  {
   "cell_type": "code",
   "execution_count": 1,
   "id": "840bea05-1f8e-44d6-b3d5-47b0aa2939ec",
   "metadata": {},
   "outputs": [],
   "source": [
    "# load mat\n",
    "import numpy as np\n",
    "import scipy.io as sio\n",
    "import matplotlib.pyplot as plt"
   ]
  },
  {
   "cell_type": "code",
   "execution_count": 2,
   "id": "9d16b869-7251-43a0-8c25-d9a2ffa8e339",
   "metadata": {},
   "outputs": [],
   "source": [
    "# reading\n",
    "mat_contents = sio.loadmat('mat/tmp.mat')\n",
    "\n",
    "X = mat_contents['X']\n",
    "Y = mat_contents['Y'].squeeze()"
   ]
  },
  {
   "cell_type": "code",
   "execution_count": 3,
   "id": "39fdc182-bfde-47b2-a5af-3615a415ee36",
   "metadata": {},
   "outputs": [],
   "source": [
    "from sklearn.linear_model import LogisticRegression"
   ]
  },
  {
   "cell_type": "code",
   "execution_count": 7,
   "id": "d5598209-dbdc-4cd6-8e8b-afaf1361e140",
   "metadata": {},
   "outputs": [],
   "source": [
    "clf = LogisticRegression(penalty='l2',C=0.5,max_iter=1e4).fit(X,Y)"
   ]
  },
  {
   "cell_type": "code",
   "execution_count": 17,
   "id": "804d9e5b-5abf-4fd1-9385-d2ffd91526a0",
   "metadata": {},
   "outputs": [
    {
     "data": {
      "text/plain": [
       "array([1.00000000e-04, 7.74263683e-04, 5.99484250e-03, 4.64158883e-02,\n",
       "       3.59381366e-01, 2.78255940e+00, 2.15443469e+01, 1.66810054e+02,\n",
       "       1.29154967e+03, 1.00000000e+04])"
      ]
     },
     "execution_count": 17,
     "metadata": {},
     "output_type": "execute_result"
    }
   ],
   "source": [
    "np.logspace(-4, 4, 10)"
   ]
  },
  {
   "cell_type": "code",
   "execution_count": 18,
   "id": "2548eaad-3251-4085-a868-28124fa82e36",
   "metadata": {},
   "outputs": [
    {
     "ename": "ValueError",
     "evalue": "Penalty term must be positive; got (C=array([1.00000000e-03, 5.99484250e-03, 3.59381366e-02, 2.15443469e-01,\n       1.29154967e+00, 7.74263683e+00, 4.64158883e+01, 2.78255940e+02,\n       1.66810054e+03, 1.00000000e+04]))",
     "output_type": "error",
     "traceback": [
      "\u001b[0;31m---------------------------------------------------------------------------\u001b[0m",
      "\u001b[0;31mValueError\u001b[0m                                Traceback (most recent call last)",
      "Input \u001b[0;32mIn [18]\u001b[0m, in \u001b[0;36m<cell line: 1>\u001b[0;34m()\u001b[0m\n\u001b[0;32m----> 1\u001b[0m clf \u001b[38;5;241m=\u001b[39m \u001b[43mLogisticRegression\u001b[49m\u001b[43m(\u001b[49m\u001b[43mC\u001b[49m\u001b[38;5;241;43m=\u001b[39;49m\u001b[43mnp\u001b[49m\u001b[38;5;241;43m.\u001b[39;49m\u001b[43mlogspace\u001b[49m\u001b[43m(\u001b[49m\u001b[38;5;241;43m-\u001b[39;49m\u001b[38;5;241;43m3\u001b[39;49m\u001b[43m,\u001b[49m\u001b[43m \u001b[49m\u001b[38;5;241;43m4\u001b[39;49m\u001b[43m,\u001b[49m\u001b[43m \u001b[49m\u001b[38;5;241;43m10\u001b[39;49m\u001b[43m)\u001b[49m\u001b[43m)\u001b[49m\u001b[38;5;241;43m.\u001b[39;49m\u001b[43mfit\u001b[49m\u001b[43m(\u001b[49m\u001b[43mX\u001b[49m\u001b[43m,\u001b[49m\u001b[43mY\u001b[49m\u001b[43m)\u001b[49m\n",
      "File \u001b[0;32m/jukebox/scratch/bichanw/miniconda3/envs/neu502b/lib/python3.9/site-packages/sklearn/linear_model/_logistic.py:1464\u001b[0m, in \u001b[0;36mLogisticRegression.fit\u001b[0;34m(self, X, y, sample_weight)\u001b[0m\n\u001b[1;32m   1461\u001b[0m solver \u001b[38;5;241m=\u001b[39m _check_solver(\u001b[38;5;28mself\u001b[39m\u001b[38;5;241m.\u001b[39msolver, \u001b[38;5;28mself\u001b[39m\u001b[38;5;241m.\u001b[39mpenalty, \u001b[38;5;28mself\u001b[39m\u001b[38;5;241m.\u001b[39mdual)\n\u001b[1;32m   1463\u001b[0m \u001b[38;5;28;01mif\u001b[39;00m \u001b[38;5;129;01mnot\u001b[39;00m \u001b[38;5;28misinstance\u001b[39m(\u001b[38;5;28mself\u001b[39m\u001b[38;5;241m.\u001b[39mC, numbers\u001b[38;5;241m.\u001b[39mNumber) \u001b[38;5;129;01mor\u001b[39;00m \u001b[38;5;28mself\u001b[39m\u001b[38;5;241m.\u001b[39mC \u001b[38;5;241m<\u001b[39m \u001b[38;5;241m0\u001b[39m:\n\u001b[0;32m-> 1464\u001b[0m     \u001b[38;5;28;01mraise\u001b[39;00m \u001b[38;5;167;01mValueError\u001b[39;00m(\u001b[38;5;124m\"\u001b[39m\u001b[38;5;124mPenalty term must be positive; got (C=\u001b[39m\u001b[38;5;132;01m%r\u001b[39;00m\u001b[38;5;124m)\u001b[39m\u001b[38;5;124m\"\u001b[39m \u001b[38;5;241m%\u001b[39m \u001b[38;5;28mself\u001b[39m\u001b[38;5;241m.\u001b[39mC)\n\u001b[1;32m   1465\u001b[0m \u001b[38;5;28;01mif\u001b[39;00m \u001b[38;5;28mself\u001b[39m\u001b[38;5;241m.\u001b[39mpenalty \u001b[38;5;241m==\u001b[39m \u001b[38;5;124m\"\u001b[39m\u001b[38;5;124melasticnet\u001b[39m\u001b[38;5;124m\"\u001b[39m:\n\u001b[1;32m   1466\u001b[0m     \u001b[38;5;28;01mif\u001b[39;00m (\n\u001b[1;32m   1467\u001b[0m         \u001b[38;5;129;01mnot\u001b[39;00m \u001b[38;5;28misinstance\u001b[39m(\u001b[38;5;28mself\u001b[39m\u001b[38;5;241m.\u001b[39ml1_ratio, numbers\u001b[38;5;241m.\u001b[39mNumber)\n\u001b[1;32m   1468\u001b[0m         \u001b[38;5;129;01mor\u001b[39;00m \u001b[38;5;28mself\u001b[39m\u001b[38;5;241m.\u001b[39ml1_ratio \u001b[38;5;241m<\u001b[39m \u001b[38;5;241m0\u001b[39m\n\u001b[1;32m   1469\u001b[0m         \u001b[38;5;129;01mor\u001b[39;00m \u001b[38;5;28mself\u001b[39m\u001b[38;5;241m.\u001b[39ml1_ratio \u001b[38;5;241m>\u001b[39m \u001b[38;5;241m1\u001b[39m\n\u001b[1;32m   1470\u001b[0m     ):\n",
      "\u001b[0;31mValueError\u001b[0m: Penalty term must be positive; got (C=array([1.00000000e-03, 5.99484250e-03, 3.59381366e-02, 2.15443469e-01,\n       1.29154967e+00, 7.74263683e+00, 4.64158883e+01, 2.78255940e+02,\n       1.66810054e+03, 1.00000000e+04]))"
     ]
    }
   ],
   "source": [
    "clf = LogisticRegression().fit(X,Y)"
   ]
  },
  {
   "cell_type": "code",
   "execution_count": 6,
   "id": "733e323c-e8af-4789-93f3-2d0f043d9b73",
   "metadata": {},
   "outputs": [
    {
     "data": {
      "text/plain": [
       "array([  6.40752063, -10.92660644,   4.51908582])"
      ]
     },
     "execution_count": 6,
     "metadata": {},
     "output_type": "execute_result"
    }
   ],
   "source": [
    "clf.intercept_"
   ]
  },
  {
   "cell_type": "code",
   "execution_count": 29,
   "id": "561b3da4-0969-4fb2-a9bd-3819b859e9ae",
   "metadata": {},
   "outputs": [],
   "source": [
    "sio.savemat('mat/pythonsave.mat',{'coef': clf.coef_.T, 'intercept': clf.intercept_})"
   ]
  },
  {
   "cell_type": "code",
   "execution_count": 7,
   "id": "b4d2657c-fddf-4a3f-92aa-5792dcd9cbde",
   "metadata": {},
   "outputs": [
    {
     "data": {
      "text/plain": [
       "array([1, 2, 3], dtype=uint8)"
      ]
     },
     "execution_count": 7,
     "metadata": {},
     "output_type": "execute_result"
    }
   ],
   "source": [
    "clf.classes_"
   ]
  },
  {
   "cell_type": "code",
   "execution_count": 9,
   "id": "fa27284b-4837-45a3-8be4-c5048580621a",
   "metadata": {},
   "outputs": [
    {
     "data": {
      "text/plain": [
       "(3, 78)"
      ]
     },
     "execution_count": 9,
     "metadata": {},
     "output_type": "execute_result"
    }
   ],
   "source": [
    "clf.coef_.shape"
   ]
  },
  {
   "cell_type": "code",
   "execution_count": 10,
   "id": "f42ba427-60b9-457d-aeda-4d32c582f900",
   "metadata": {},
   "outputs": [
    {
     "data": {
      "text/plain": [
       "(3,)"
      ]
     },
     "execution_count": 10,
     "metadata": {},
     "output_type": "execute_result"
    }
   ],
   "source": [
    "clf.intercept_.shape"
   ]
  },
  {
   "cell_type": "code",
   "execution_count": 14,
   "id": "6aa55e91-d57d-466d-ba77-c331c126ace6",
   "metadata": {},
   "outputs": [
    {
     "data": {
      "text/plain": [
       "1.0"
      ]
     },
     "execution_count": 14,
     "metadata": {},
     "output_type": "execute_result"
    }
   ],
   "source": [
    "clf.C"
   ]
  },
  {
   "cell_type": "code",
   "execution_count": 9,
   "id": "df9c1cf3-4578-4e31-9c16-b1325210639a",
   "metadata": {},
   "outputs": [
    {
     "data": {
      "text/plain": [
       "<matplotlib.image.AxesImage at 0x7f8e31d39af0>"
      ]
     },
     "execution_count": 9,
     "metadata": {},
     "output_type": "execute_result"
    },
    {
     "data": {
      "image/png": "[encoded data removed]",
      "text/plain": [
       "<Figure size 432x288 with 1 Axes>"
      ]
     },
     "metadata": {
      "needs_background": "light"
     },
     "output_type": "display_data"
    }
   ],
   "source": [
    "plt.imshow(clf.predict(X)[:,np.newaxis],aspect='auto')"
   ]
  },
  {
   "cell_type": "code",
   "execution_count": 23,
   "id": "6cafee78-4b19-487f-9a37-8fc36ac89087",
   "metadata": {},
   "outputs": [
    {
     "data": {
      "text/plain": [
       "<matplotlib.image.AxesImage at 0x7f32a1d11f70>"
      ]
     },
     "execution_count": 23,
     "metadata": {},
     "output_type": "execute_result"
    },
    {
     "data": {
      "image/png": "[encoded data removed]",
      "text/plain": [
       "<Figure size 432x288 with 1 Axes>"
      ]
     },
     "metadata": {
      "needs_background": "light"
     },
     "output_type": "display_data"
    }
   ],
   "source": [
    "plt.imshow((X@clf.coef_.T+clf.intercept_)==clf.decision_function(X),aspect='auto')"
   ]
  },
  {
   "cell_type": "code",
   "execution_count": 12,
   "id": "6a6bc3f3-7963-4542-888c-6ebfd5212858",
   "metadata": {},
   "outputs": [
    {
     "data": {
      "text/plain": [
       "<matplotlib.image.AxesImage at 0x7f8e31db9f10>"
      ]
     },
     "execution_count": 12,
     "metadata": {},
     "output_type": "execute_result"
    },
    {
     "data": {
      "image/png": "[encoded data removed]",
      "text/plain": [
       "<Figure size 432x288 with 1 Axes>"
      ]
     },
     "metadata": {
      "needs_background": "light"
     },
     "output_type": "display_data"
    }
   ],
   "source": [
    "from scipy.special import softmax\n",
    "plt.imshow(softmax(clf.decision_function(X),axis=1),aspect='auto')"
   ]
  },
  {
   "cell_type": "code",
   "execution_count": 7,
   "id": "49b25537-bfe7-4b21-807b-2abfb6561b31",
   "metadata": {},
   "outputs": [],
   "source": [
    "from sklearn.naive_bayes import GaussianNB"
   ]
  },
  {
   "cell_type": "code",
   "execution_count": 14,
   "id": "d63eac0c-afaf-4c48-9224-ce768304dbf5",
   "metadata": {},
   "outputs": [],
   "source": [
    "# fit model\n",
    "clf = GaussianNB()\n",
    "clf.fit(X,Y)"
   ]
  },
  {
   "cell_type": "code",
   "execution_count": 24,
   "id": "2d19cb53-765a-45e2-bd62-412a04161a4a",
   "metadata": {},
   "outputs": [
    {
     "data": {
      "text/plain": [
       "<matplotlib.colorbar.Colorbar at 0x7f100bcf74f0>"
      ]
     },
     "execution_count": 24,
     "metadata": {},
     "output_type": "execute_result"
    },
    {
     "data": {
      "image/png": "[encoded data removed]",
      "text/plain": [
       "<Figure size 432x288 with 2 Axes>"
      ]
     },
     "metadata": {
      "needs_background": "light"
     },
     "output_type": "display_data"
    }
   ],
   "source": [
    "plt.imshow(clf.var_==0,aspect='auto')\n",
    "plt.colorbar()"
   ]
  },
  {
   "cell_type": "code",
   "execution_count": 27,
   "id": "234a64f4-eb03-458b-89f3-1a7d9d1e4943",
   "metadata": {},
   "outputs": [
    {
     "data": {
      "text/plain": [
       "array([[1.20306123e+01, 1.04762260e-07],\n",
       "       [1.03905326e+01, 1.04762260e-07],\n",
       "       [9.92764071e+00, 1.04762260e-07]])"
      ]
     },
     "execution_count": 27,
     "metadata": {},
     "output_type": "execute_result"
    }
   ],
   "source": [
    "clf.var_[:,14:16]"
   ]
  },
  {
   "cell_type": "code",
   "execution_count": 25,
   "id": "de514dfd-2759-482f-bb05-d7722360beb2",
   "metadata": {},
   "outputs": [
    {
     "data": {
      "text/plain": [
       "<matplotlib.collections.PathCollection at 0x7f100bc71c70>"
      ]
     },
     "execution_count": 25,
     "metadata": {},
     "output_type": "execute_result"
    },
    {
     "data": {
      "image/png": "[encoded data removed]",
      "text/plain": [
       "<Figure size 432x288 with 1 Axes>"
      ]
     },
     "metadata": {
      "needs_background": "light"
     },
     "output_type": "display_data"
    }
   ],
   "source": [
    "plt.scatter(X[:,15],Y)"
   ]
  },
  {
   "cell_type": "code",
   "execution_count": 18,
   "id": "d16aa7ec-5a07-4bff-966d-7cf7171ade7c",
   "metadata": {},
   "outputs": [
    {
     "data": {
      "text/plain": [
       "array([[1.78571429e-01, 4.26785714e+01, 3.20714286e+01, 2.14285714e-01,\n",
       "        1.42857143e-01, 1.78571429e-01, 2.50000000e-01, 6.07142857e-01,\n",
       "        2.14285714e-01, 2.14285714e-01, 1.72857143e+01, 1.32142857e+00,\n",
       "        2.71071429e+01, 1.02857143e+01, 7.57142857e+00, 0.00000000e+00,\n",
       "        0.00000000e+00, 0.00000000e+00, 7.14285714e-02, 3.57142857e-02,\n",
       "        0.00000000e+00, 2.50000000e-01, 1.42857143e-01, 2.14285714e+00,\n",
       "        1.57142857e+00, 3.32142857e+00, 7.14285714e-02, 0.00000000e+00,\n",
       "        8.57142857e-01, 0.00000000e+00, 2.21071429e+01, 1.07142857e-01,\n",
       "        7.14285714e-02, 0.00000000e+00, 7.50000000e+00, 6.07142857e-01,\n",
       "        7.14285714e-02, 1.42857143e-01, 7.14285714e-02, 3.57142857e-01,\n",
       "        1.07142857e-01, 4.64285714e-01, 6.42857143e-01, 2.24285714e+01,\n",
       "        1.42857143e-01, 2.75000000e+00, 1.82142857e+00, 1.92857143e+00,\n",
       "        1.39285714e+01, 2.39285714e+01, 2.85714286e-01, 3.85714286e+00,\n",
       "        0.00000000e+00, 0.00000000e+00, 1.89285714e+01, 1.07142857e-01,\n",
       "        2.14285714e-01, 1.14285714e+00, 0.00000000e+00, 0.00000000e+00,\n",
       "        2.50000000e-01, 0.00000000e+00, 7.14285714e-02, 0.00000000e+00,\n",
       "        1.42857143e-01, 3.57142857e-02, 0.00000000e+00, 7.14285714e-02,\n",
       "        1.42857143e-01, 1.42857143e-01, 7.14285714e-02, 1.78571429e-01,\n",
       "        0.00000000e+00, 2.50000000e-01, 5.35714286e-01, 2.14285714e-01,\n",
       "        7.14285714e-02, 1.07142857e-01],\n",
       "       [3.84615385e-02, 4.02307692e+01, 3.54615385e+01, 1.92307692e-01,\n",
       "        1.53846154e-01, 1.15384615e-01, 4.23076923e-01, 5.00000000e-01,\n",
       "        3.84615385e-01, 3.84615385e-01, 1.79615385e+01, 1.03846154e+00,\n",
       "        2.60000000e+01, 5.26923077e+00, 8.61538462e+00, 0.00000000e+00,\n",
       "        0.00000000e+00, 0.00000000e+00, 1.15384615e-01, 7.69230769e-02,\n",
       "        3.84615385e-02, 7.69230769e-02, 1.53846154e-01, 3.46153846e-01,\n",
       "        2.50000000e+00, 3.80769231e+00, 2.30769231e-01, 0.00000000e+00,\n",
       "        5.00000000e-01, 3.84615385e-02, 2.58076923e+01, 3.84615385e-02,\n",
       "        0.00000000e+00, 0.00000000e+00, 3.84615385e+00, 6.15384615e-01,\n",
       "        7.69230769e-02, 7.69230769e-02, 0.00000000e+00, 7.69230769e-02,\n",
       "        1.92307692e-01, 3.07692308e-01, 1.34615385e+00, 1.19230769e+01,\n",
       "        2.69230769e-01, 4.15384615e+00, 1.23076923e+00, 1.46153846e+00,\n",
       "        1.78076923e+01, 2.40000000e+01, 1.15384615e-01, 3.00000000e+00,\n",
       "        0.00000000e+00, 0.00000000e+00, 1.94615385e+01, 3.84615385e-02,\n",
       "        1.15384615e-01, 1.07692308e+00, 0.00000000e+00, 0.00000000e+00,\n",
       "        1.53846154e-01, 0.00000000e+00, 0.00000000e+00, 0.00000000e+00,\n",
       "        1.15384615e-01, 3.84615385e-02, 1.15384615e-01, 0.00000000e+00,\n",
       "        2.30769231e-01, 1.84615385e+00, 7.69230769e-02, 1.53846154e-01,\n",
       "        0.00000000e+00, 4.23076923e-01, 2.30769231e-01, 3.84615385e-01,\n",
       "        1.15384615e-01, 0.00000000e+00],\n",
       "       [9.25925926e-02, 4.98148148e+01, 2.20740741e+01, 1.66666667e-01,\n",
       "        7.40740741e-02, 1.48148148e-01, 7.03703704e-01, 9.44444444e-01,\n",
       "        3.51851852e-01, 1.48148148e-01, 1.53333333e+01, 7.77777778e-01,\n",
       "        2.78148148e+01, 4.18518519e+00, 4.87037037e+00, 0.00000000e+00,\n",
       "        1.85185185e-02, 1.29629630e-01, 1.11111111e-01, 9.25925926e-02,\n",
       "        5.55555556e-02, 5.92592593e-01, 1.85185185e-02, 1.83333333e+00,\n",
       "        1.27777778e+00, 6.66666667e-01, 9.07407407e-01, 5.55555556e-02,\n",
       "        5.07407407e+00, 1.85185185e-01, 1.03703704e+01, 3.70370370e-02,\n",
       "        7.40740741e-01, 7.40740741e-02, 1.48148148e-01, 2.40740741e-01,\n",
       "        1.48148148e-01, 3.33333333e-01, 1.29629630e-01, 2.96296296e-01,\n",
       "        1.85185185e-01, 2.22222222e-01, 5.62962963e+00, 1.46296296e+01,\n",
       "        1.66666667e-01, 1.25925926e+00, 2.29629630e+00, 1.03703704e+00,\n",
       "        2.34444444e+01, 2.47592593e+01, 5.55555556e-02, 6.29629630e-01,\n",
       "        3.70370370e-02, 1.85185185e-02, 4.87037037e+00, 1.85185185e-02,\n",
       "        4.44444444e-01, 1.22222222e+00, 7.40740741e-02, 1.85185185e-02,\n",
       "        3.33333333e-01, 1.85185185e-02, 3.70370370e-02, 1.48148148e-01,\n",
       "        2.40740741e-01, 1.11111111e-01, 5.55555556e-02, 9.25925926e-02,\n",
       "        7.40740741e-02, 7.40740741e-01, 5.55555556e-02, 1.11111111e-01,\n",
       "        5.55555556e-02, 5.00000000e-01, 1.09259259e+00, 1.59259259e+00,\n",
       "        2.22222222e-01, 3.70370370e-01]])"
      ]
     },
     "execution_count": 18,
     "metadata": {},
     "output_type": "execute_result"
    }
   ],
   "source": [
    "clf.theta_"
   ]
  },
  {
   "cell_type": "code",
   "execution_count": null,
   "id": "510cb80b-5333-42aa-b11c-1c158f103305",
   "metadata": {},
   "outputs": [],
   "source": []
  }
 ],
 "metadata": {
  "kernelspec": {
   "display_name": "Python 3 (ipykernel)",
   "language": "python",
   "name": "python3"
  },
  "language_info": {
   "codemirror_mode": {
    "name": "ipython",
    "version": 3
   },
   "file_extension": ".py",
   "mimetype": "text/x-python",
   "name": "python",
   "nbconvert_exporter": "python",
   "pygments_lexer": "ipython3",
   "version": "3.9.7"
  }
 },
 "nbformat": 4,
 "nbformat_minor": 5
}
